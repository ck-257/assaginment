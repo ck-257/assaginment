{
 "cells": [
  {
   "cell_type": "markdown",
   "id": "80bacab0-b114-423a-a4c6-a3e3cd88b8ae",
   "metadata": {},
   "source": [
    "# Data Science Tools and Ecosystem"
   ]
  },
  {
   "cell_type": "markdown",
   "id": "e851c071-8d1a-42f8-b99e-f83852e8599f",
   "metadata": {},
   "source": [
    " #### In this notebook, Data Science Tools and Ecosystem are summarized."
   ]
  },
  {
   "cell_type": "markdown",
   "id": "5f120957-94b9-441f-8ffb-96964b4bd468",
   "metadata": {},
   "source": [
    "# Some of the popular languages that Data Scientists use are:\n",
    "1. Python\n",
    "2. R \n",
    "3. java"
   ]
  },
  {
   "cell_type": "markdown",
   "id": "09c92546-2641-46a8-aecd-22c5b1f9d5c9",
   "metadata": {},
   "source": [
    "# Some of the commonly used libraries used by Data Scientists include:\n",
    "1. pandas\n",
    "2. numpy\n",
    "3. matlab"
   ]
  },
  {
   "cell_type": "markdown",
   "id": "51cccb75-c2fb-41ad-a0da-2b5f999ce379",
   "metadata": {},
   "source": [
    "### Below are a few examples of evaluating arithmetic expressions in Python"
   ]
  },
  {
   "cell_type": "code",
   "execution_count": 1,
   "id": "b742cad9-7bc3-49eb-b457-294e8a97a7cb",
   "metadata": {
    "tags": []
   },
   "outputs": [
    {
     "data": {
      "text/plain": [
       "17.0"
      ]
     },
     "execution_count": 1,
     "metadata": {},
     "output_type": "execute_result"
    }
   ],
   "source": [
    "(3*4)+5."
   ]
  },
  {
   "cell_type": "code",
   "execution_count": 4,
   "id": "069d15a3-1803-4bd1-bde4-e44018823410",
   "metadata": {
    "tags": []
   },
   "outputs": [
    {
     "name": "stdout",
     "output_type": "stream",
     "text": [
      "3.3333333333333335\n"
     ]
    }
   ],
   "source": [
    "min=200\n",
    "print(200/60)"
   ]
  },
  {
   "cell_type": "markdown",
   "id": "156a38f5-2348-4385-a896-f34aeb65dc79",
   "metadata": {},
   "source": [
    "# List popular languages for Data Science\n",
    "+ c\n",
    "+ python"
   ]
  },
  {
   "cell_type": "code",
   "execution_count": null,
   "id": "9a9e14f1-d01b-496c-b35c-e8fc0d4f370d",
   "metadata": {},
   "outputs": [],
   "source": []
  }
 ],
 "metadata": {
  "kernelspec": {
   "display_name": "Python",
   "language": "python",
   "name": "conda-env-python-py"
  },
  "language_info": {
   "codemirror_mode": {
    "name": "ipython",
    "version": 3
   },
   "file_extension": ".py",
   "mimetype": "text/x-python",
   "name": "python",
   "nbconvert_exporter": "python",
   "pygments_lexer": "ipython3",
   "version": "3.7.12"
  }
 },
 "nbformat": 4,
 "nbformat_minor": 5
}
